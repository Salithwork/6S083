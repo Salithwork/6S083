{
  "nbformat": 4,
  "nbformat_minor": 0,
  "metadata": {
    "colab": {
      "name": "Lemmatization.ipynb",
      "provenance": [],
      "authorship_tag": "ABX9TyOxTRJx8nntyLr3PWXkVRWT",
      "include_colab_link": true
    },
    "kernelspec": {
      "display_name": "Python 3",
      "name": "python3"
    }
  },
  "cells": [
    {
      "cell_type": "markdown",
      "metadata": {
        "id": "view-in-github",
        "colab_type": "text"
      },
      "source": [
        "<a href=\"https://colab.research.google.com/github/Salithwork/6S083/blob/master/Lemmatization.ipynb\" target=\"_parent\"><img src=\"https://colab.research.google.com/assets/colab-badge.svg\" alt=\"Open In Colab\"/></a>"
      ]
    },
    {
      "cell_type": "markdown",
      "metadata": {
        "id": "ztREFMvYm4nA"
      },
      "source": [
        "#Lemmatization"
      ]
    },
    {
      "cell_type": "code",
      "metadata": {
        "colab": {
          "background_save": true
        },
        "id": "mJYkAnm2mKzw",
        "outputId": "9ec73351-1a68-4b8f-8dc2-e7bbde4bdb49"
      },
      "source": [
        "import nltk\r\n",
        "nltk.download('wordnet')"
      ],
      "execution_count": null,
      "outputs": [
        {
          "output_type": "stream",
          "text": [
            "[nltk_data] Downloading package wordnet to /root/nltk_data...\n",
            "[nltk_data]   Unzipping corpora/wordnet.zip.\n"
          ],
          "name": "stdout"
        },
        {
          "output_type": "execute_result",
          "data": {
            "text/plain": [
              "True"
            ]
          },
          "metadata": {
            "tags": []
          },
          "execution_count": 0
        }
      ]
    },
    {
      "cell_type": "code",
      "metadata": {
        "colab": {
          "base_uri": "https://localhost:8080/"
        },
        "id": "ZyN1iBHNoAYX",
        "outputId": "286bb457-44e7-4c01-e0da-75a1ae21a1ab"
      },
      "source": [
        "from nltk.stem import WordNetLemmatizer\r\n",
        "Lemmati = WordNetLemmatizer()\r\n",
        "print(\"socks:\", Lemmati.lemmatize(\"socks\"))\r\n",
        "print(\"sons:\", Lemmati.lemmatize(\"sons\"))"
      ],
      "execution_count": null,
      "outputs": [
        {
          "output_type": "stream",
          "text": [
            "socks: sock\n",
            "sons: son\n"
          ],
          "name": "stdout"
        }
      ]
    },
    {
      "cell_type": "code",
      "metadata": {
        "colab": {
          "base_uri": "https://localhost:8080/"
        },
        "id": "ZraOhdEboy5X",
        "outputId": "07c111b8-5647-4d4a-dc6d-43ffeaabd7f6"
      },
      "source": [
        "print(\"likes:\", Lemmati.lemmatize(\"likes\"))\r\n",
        "print(\"brothers:\", Lemmati.lemmatize(\"brothers\"))"
      ],
      "execution_count": null,
      "outputs": [
        {
          "output_type": "stream",
          "text": [
            "likes: like\n",
            "brothers: brother\n"
          ],
          "name": "stdout"
        }
      ]
    }
  ]
}