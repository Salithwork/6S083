{
  "nbformat": 4,
  "nbformat_minor": 0,
  "metadata": {
    "colab": {
      "name": "Stemming.ipynb",
      "provenance": [],
      "authorship_tag": "ABX9TyMmpDjTJ4bjZFxw0+PfTgXb",
      "include_colab_link": true
    },
    "kernelspec": {
      "name": "python3",
      "display_name": "Python 3"
    }
  },
  "cells": [
    {
      "cell_type": "markdown",
      "metadata": {
        "id": "view-in-github",
        "colab_type": "text"
      },
      "source": [
        "<a href=\"https://colab.research.google.com/github/Salithwork/6S083/blob/master/Stemming.ipynb\" target=\"_parent\"><img src=\"https://colab.research.google.com/assets/colab-badge.svg\" alt=\"Open In Colab\"/></a>"
      ]
    },
    {
      "cell_type": "markdown",
      "metadata": {
        "id": "nOdX6dZRsjRY"
      },
      "source": [
        "#Stemming"
      ]
    },
    {
      "cell_type": "code",
      "metadata": {
        "colab": {
          "base_uri": "https://localhost:8080/"
        },
        "id": "9QJq5dK5shyy",
        "outputId": "efa02ff6-b52c-403d-f8fd-e17d7230783b"
      },
      "source": [
        "from nltk.stem import PorterStemmer\r\n",
        "portstem = PorterStemmer()\r\n",
        "\r\n",
        "words=[\"Fun\",\"Funny\",\"Funniest\"]\r\n",
        "\r\n",
        "for f in words:\r\n",
        "  print(f, \":\", portstem.stem(f))"
      ],
      "execution_count": 7,
      "outputs": [
        {
          "output_type": "stream",
          "text": [
            "Fun : fun\n",
            "Funny : funni\n",
            "Funniest : funniest\n"
          ],
          "name": "stdout"
        }
      ]
    },
    {
      "cell_type": "code",
      "metadata": {
        "id": "mfdYfT1OsizS",
        "colab": {
          "base_uri": "https://localhost:8080/"
        },
        "outputId": "bf724dc1-b844-40a6-f69b-9123ae615c98"
      },
      "source": [
        "from nltk.stem import PorterStemmer \r\n",
        "from nltk.tokenize import word_tokenize \r\n",
        "   \r\n",
        "ps = PorterStemmer() \r\n",
        "  \r\n",
        "# choose some words to be stemmed \r\n",
        "say = [\"program\", \"programs\", \"programer\", \"programing\", \"programers\"] \r\n",
        "  \r\n",
        "for s in say: \r\n",
        "    print(s, \" : \", ps.stem(s)) "
      ],
      "execution_count": 3,
      "outputs": [
        {
          "output_type": "stream",
          "text": [
            "program  :  program\n",
            "programs  :  program\n",
            "programer  :  program\n",
            "programing  :  program\n",
            "programers  :  program\n"
          ],
          "name": "stdout"
        }
      ]
    }
  ]
}